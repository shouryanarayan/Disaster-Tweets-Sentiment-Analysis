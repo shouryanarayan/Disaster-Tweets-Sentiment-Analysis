{
  "nbformat": 4,
  "nbformat_minor": 0,
  "metadata": {
    "colab": {
      "name": "Final Project IDS 575.ipynb",
      "provenance": [],
      "collapsed_sections": []
    },
    "kernelspec": {
      "name": "python3",
      "display_name": "Python 3"
    },
    "accelerator": "GPU"
  },
  "cells": [
    {
      "cell_type": "code",
      "metadata": {
        "id": "sdtxTACuSS-f",
        "colab": {
          "base_uri": "https://localhost:8080/",
          "height": 123
        },
        "outputId": "8c7dc3c7-9c8b-4ad6-f75d-4892d7cd56fd"
      },
      "source": [
        "from google.colab import drive\n",
        "drive.mount('/content/drive')"
      ],
      "execution_count": null,
      "outputs": [
        {
          "output_type": "stream",
          "text": [
            "Go to this URL in a browser: https://accounts.google.com/o/oauth2/auth?client_id=947318989803-6bn6qk8qdgf4n4g3pfee6491hc0brc4i.apps.googleusercontent.com&redirect_uri=urn%3aietf%3awg%3aoauth%3a2.0%3aoob&response_type=code&scope=email%20https%3a%2f%2fwww.googleapis.com%2fauth%2fdocs.test%20https%3a%2f%2fwww.googleapis.com%2fauth%2fdrive%20https%3a%2f%2fwww.googleapis.com%2fauth%2fdrive.photos.readonly%20https%3a%2f%2fwww.googleapis.com%2fauth%2fpeopleapi.readonly\n",
            "\n",
            "Enter your authorization code:\n",
            "··········\n",
            "Mounted at /content/drive\n"
          ],
          "name": "stdout"
        }
      ]
    },
    {
      "cell_type": "code",
      "metadata": {
        "id": "-v0ppEK0TgkZ",
        "colab": {
          "base_uri": "https://localhost:8080/",
          "height": 34
        },
        "outputId": "9b96e788-fbef-468f-e0c9-e52d05823a84"
      },
      "source": [
        "%cd /content/drive/Shared\\ drives/IDS\\ 575    "
      ],
      "execution_count": null,
      "outputs": [
        {
          "output_type": "stream",
          "text": [
            "/content/drive/Shared drives/IDS 575\n"
          ],
          "name": "stdout"
        }
      ]
    },
    {
      "cell_type": "code",
      "metadata": {
        "id": "K_6L33r2U6Br",
        "colab": {
          "base_uri": "https://localhost:8080/",
          "height": 106
        },
        "outputId": "db70b102-a362-45bd-8774-f141afe95d6c"
      },
      "source": [
        "import pandas as pd\n",
        "import re\n",
        "import string\n",
        "import nltk\n",
        "import matplotlib\n",
        "import matplotlib.pyplot as plt\n",
        "import numpy as np\n",
        "from nltk.stem import WordNetLemmatizer\n",
        "import seaborn as sns\n",
        "\n",
        "pd.set_option('display.max_colwidth', 100)\n",
        "pd.set_option('display.expand_frame_repr', False)\n",
        "pd.set_option('max_colwidth', -1)\n",
        "\n",
        "from nltk import FreqDist, word_tokenize\n",
        "from wordcloud import STOPWORDS\n",
        "\n",
        "# Make a set of stop words\n",
        "stopwords = set(STOPWORDS)\n",
        "more_stopwords = {'https', 'amp','û'}\n",
        "stopwords = stopwords.union(more_stopwords)\n",
        "\n",
        "#stopwords = nltk.corpus.stopwords.words('english')\n",
        "word_lemmenatization = nltk.stem.WordNetLemmatizer()\n",
        "ps = nltk.PorterStemmer()\n",
        "\n",
        "font = {'family' : 'normal',\n",
        "        'size'   : 18}\n",
        "\n",
        "matplotlib.rc('font', **font)"
      ],
      "execution_count": null,
      "outputs": [
        {
          "output_type": "stream",
          "text": [
            "/usr/local/lib/python3.6/dist-packages/statsmodels/tools/_testing.py:19: FutureWarning: pandas.util.testing is deprecated. Use the functions in the public API at pandas.testing instead.\n",
            "  import pandas.util.testing as tm\n",
            "/usr/local/lib/python3.6/dist-packages/ipykernel_launcher.py:13: FutureWarning: Passing a negative integer is deprecated in version 1.0 and will not be supported in future version. Instead, use None to not limit the column width.\n",
            "  del sys.path[0]\n"
          ],
          "name": "stderr"
        }
      ]
    },
    {
      "cell_type": "markdown",
      "metadata": {
        "id": "IDoRwCJU14ZT"
      },
      "source": [
        ""
      ]
    },
    {
      "cell_type": "code",
      "metadata": {
        "id": "A4b2tlkrWakS"
      },
      "source": [
        "#Loading data\n",
        "dataset = pd.read_csv('DFE.csv')\n",
        "dataset = dataset[['choose_one','keyword','location','text']]\n",
        "dataset['target'] = dataset.choose_one.apply(lambda x: 1 if x == \"Relevant\" else 0)\n",
        "dataset = dataset[['keyword','location','text','target']]"
      ],
      "execution_count": null,
      "outputs": []
    },
    {
      "cell_type": "code",
      "metadata": {
        "id": "x71bdhQXJs3W",
        "colab": {
          "base_uri": "https://localhost:8080/",
          "height": 417
        },
        "outputId": "e69ab0d2-01fc-446b-ce7d-9a8a25604c82"
      },
      "source": [
        "dataset.head(100)"
      ],
      "execution_count": null,
      "outputs": [
        {
          "output_type": "execute_result",
          "data": {
            "text/html": [
              "<div>\n",
              "<style scoped>\n",
              "    .dataframe tbody tr th:only-of-type {\n",
              "        vertical-align: middle;\n",
              "    }\n",
              "\n",
              "    .dataframe tbody tr th {\n",
              "        vertical-align: top;\n",
              "    }\n",
              "\n",
              "    .dataframe thead th {\n",
              "        text-align: right;\n",
              "    }\n",
              "</style>\n",
              "<table border=\"1\" class=\"dataframe\">\n",
              "  <thead>\n",
              "    <tr style=\"text-align: right;\">\n",
              "      <th></th>\n",
              "      <th>keyword</th>\n",
              "      <th>location</th>\n",
              "      <th>text</th>\n",
              "      <th>target</th>\n",
              "    </tr>\n",
              "  </thead>\n",
              "  <tbody>\n",
              "    <tr>\n",
              "      <th>0</th>\n",
              "      <td>NaN</td>\n",
              "      <td>NaN</td>\n",
              "      <td>Just happened a terrible car crash</td>\n",
              "      <td>1</td>\n",
              "    </tr>\n",
              "    <tr>\n",
              "      <th>1</th>\n",
              "      <td>NaN</td>\n",
              "      <td>NaN</td>\n",
              "      <td>Our Deeds are the Reason of this #earthquake May ALLAH Forgive us all</td>\n",
              "      <td>1</td>\n",
              "    </tr>\n",
              "    <tr>\n",
              "      <th>2</th>\n",
              "      <td>NaN</td>\n",
              "      <td>NaN</td>\n",
              "      <td>Heard about #earthquake is different cities, stay safe everyone.</td>\n",
              "      <td>1</td>\n",
              "    </tr>\n",
              "    <tr>\n",
              "      <th>3</th>\n",
              "      <td>NaN</td>\n",
              "      <td>NaN</td>\n",
              "      <td>there is a forest fire at spot pond, geese are fleeing across the street, I cannot save them all</td>\n",
              "      <td>1</td>\n",
              "    </tr>\n",
              "    <tr>\n",
              "      <th>4</th>\n",
              "      <td>NaN</td>\n",
              "      <td>NaN</td>\n",
              "      <td>Forest fire near La Ronge Sask. Canada</td>\n",
              "      <td>1</td>\n",
              "    </tr>\n",
              "    <tr>\n",
              "      <th>...</th>\n",
              "      <td>...</td>\n",
              "      <td>...</td>\n",
              "      <td>...</td>\n",
              "      <td>...</td>\n",
              "    </tr>\n",
              "    <tr>\n",
              "      <th>95</th>\n",
              "      <td>ablaze</td>\n",
              "      <td>San Francisco</td>\n",
              "      <td>@ablaze what time does your talk go until? I don't know if I can make it due to work.</td>\n",
              "      <td>0</td>\n",
              "    </tr>\n",
              "    <tr>\n",
              "      <th>96</th>\n",
              "      <td>accident</td>\n",
              "      <td>CLVLND</td>\n",
              "      <td>'I can't have kids cuz I got in a bicycle accident &amp;amp; split my testicles. it's impossible for me to have kids' MICHAEL YOU ARE THE FATHER</td>\n",
              "      <td>0</td>\n",
              "    </tr>\n",
              "    <tr>\n",
              "      <th>97</th>\n",
              "      <td>accident</td>\n",
              "      <td>Nashville, TN</td>\n",
              "      <td>Accident on I-24 W #NashvilleTraffic. Traffic moving 8m slower than usual. https://t.co/0GHk693EgJ</td>\n",
              "      <td>1</td>\n",
              "    </tr>\n",
              "    <tr>\n",
              "      <th>98</th>\n",
              "      <td>accident</td>\n",
              "      <td>Santa Clara, CA</td>\n",
              "      <td>Accident center lane blocked in #SantaClara on US-101 NB before Great America Pkwy #BayArea #Traffic http://t.co/pmlOhZuRWR</td>\n",
              "      <td>1</td>\n",
              "    </tr>\n",
              "    <tr>\n",
              "      <th>99</th>\n",
              "      <td>accident</td>\n",
              "      <td>Homewood, PA</td>\n",
              "      <td>Accident cleared in #PaTurnpike on PATP EB between PA-18 and Cranberry slow back to #traffic http://t.co/SL0Oqn0Vyr</td>\n",
              "      <td>1</td>\n",
              "    </tr>\n",
              "  </tbody>\n",
              "</table>\n",
              "<p>100 rows × 4 columns</p>\n",
              "</div>"
            ],
            "text/plain": [
              "     keyword         location                                                                                                                                          text  target\n",
              "0   NaN       NaN              Just happened a terrible car crash                                                                                                            1     \n",
              "1   NaN       NaN              Our Deeds are the Reason of this #earthquake May ALLAH Forgive us all                                                                         1     \n",
              "2   NaN       NaN              Heard about #earthquake is different cities, stay safe everyone.                                                                              1     \n",
              "3   NaN       NaN              there is a forest fire at spot pond, geese are fleeing across the street, I cannot save them all                                              1     \n",
              "4   NaN       NaN              Forest fire near La Ronge Sask. Canada                                                                                                        1     \n",
              "..  ...       ...                                                 ...                                                                                                       ..     \n",
              "95  ablaze    San Francisco    @ablaze what time does your talk go until? I don't know if I can make it due to work.                                                         0     \n",
              "96  accident  CLVLND           'I can't have kids cuz I got in a bicycle accident &amp; split my testicles. it's impossible for me to have kids' MICHAEL YOU ARE THE FATHER  0     \n",
              "97  accident  Nashville, TN    Accident on I-24 W #NashvilleTraffic. Traffic moving 8m slower than usual. https://t.co/0GHk693EgJ                                            1     \n",
              "98  accident  Santa Clara, CA  Accident center lane blocked in #SantaClara on US-101 NB before Great America Pkwy #BayArea #Traffic http://t.co/pmlOhZuRWR                   1     \n",
              "99  accident  Homewood, PA     Accident cleared in #PaTurnpike on PATP EB between PA-18 and Cranberry slow back to #traffic http://t.co/SL0Oqn0Vyr                           1     \n",
              "\n",
              "[100 rows x 4 columns]"
            ]
          },
          "metadata": {
            "tags": []
          },
          "execution_count": 12
        }
      ]
    },
    {
      "cell_type": "code",
      "metadata": {
        "id": "6PEtWoxiKvCz",
        "colab": {
          "base_uri": "https://localhost:8080/",
          "height": 351
        },
        "outputId": "30d05473-21e4-45d8-87d1-a1e4f0b9b602"
      },
      "source": [
        "target_counts = pd.DataFrame({\"Target\":[\"Not\",\"Real\"],\"Count\":dataset['target'].value_counts()})\n",
        "sns.barplot(y=\"Target\",x=\"Count\",data=target_counts,palette=\"pastel\").set_title(\"Count of Real & Not Tweets\")"
      ],
      "execution_count": null,
      "outputs": [
        {
          "output_type": "execute_result",
          "data": {
            "text/plain": [
              "Text(0.5, 1.0, 'Count of Real & Not Tweets')"
            ]
          },
          "metadata": {
            "tags": []
          },
          "execution_count": 6
        },
        {
          "output_type": "stream",
          "text": [
            "findfont: Font family ['normal'] not found. Falling back to DejaVu Sans.\n",
            "findfont: Font family ['normal'] not found. Falling back to DejaVu Sans.\n"
          ],
          "name": "stderr"
        },
        {
          "output_type": "display_data",
          "data": {
            "image/png": "[encoded data removed]",
            "text/plain": [
              "<Figure size 432x288 with 1 Axes>"
            ]
          },
          "metadata": {
            "tags": [],
            "needs_background": "light"
          }
        }
      ]
    },
    {
      "cell_type": "code",
      "metadata": {
        "id": "RGDZ3eHUHitO"
      },
      "source": [
        "counts = pd.DataFrame({\"Target\":[\"Not\",\"Real\"],\"Count\":ytr.value_counts()})"
      ],
      "execution_count": null,
      "outputs": []
    },
    {
      "cell_type": "code",
      "metadata": {
        "id": "hc3y0yzTHoRN",
        "colab": {
          "base_uri": "https://localhost:8080/",
          "height": 106
        },
        "outputId": "a2fe8211-f0dc-465f-e42f-7b87e2b537f7"
      },
      "source": [
        "counts"
      ],
      "execution_count": null,
      "outputs": [
        {
          "output_type": "execute_result",
          "data": {
            "text/html": [
              "<div>\n",
              "<style scoped>\n",
              "    .dataframe tbody tr th:only-of-type {\n",
              "        vertical-align: middle;\n",
              "    }\n",
              "\n",
              "    .dataframe tbody tr th {\n",
              "        vertical-align: top;\n",
              "    }\n",
              "\n",
              "    .dataframe thead th {\n",
              "        text-align: right;\n",
              "    }\n",
              "</style>\n",
              "<table border=\"1\" class=\"dataframe\">\n",
              "  <thead>\n",
              "    <tr style=\"text-align: right;\">\n",
              "      <th></th>\n",
              "      <th>Target</th>\n",
              "      <th>Count</th>\n",
              "    </tr>\n",
              "  </thead>\n",
              "  <tbody>\n",
              "    <tr>\n",
              "      <th>0</th>\n",
              "      <td>Not</td>\n",
              "      <td>4362</td>\n",
              "    </tr>\n",
              "    <tr>\n",
              "      <th>1</th>\n",
              "      <td>Real</td>\n",
              "      <td>3251</td>\n",
              "    </tr>\n",
              "  </tbody>\n",
              "</table>\n",
              "</div>"
            ],
            "text/plain": [
              "  Target  Count\n",
              "0  Not    4362 \n",
              "1  Real   3251 "
            ]
          },
          "metadata": {
            "tags": []
          },
          "execution_count": 44
        }
      ]
    },
    {
      "cell_type": "code",
      "metadata": {
        "id": "uZOd75PJT2bo"
      },
      "source": [
        "#creating meta features\n",
        "def count_punct(text):\n",
        "    count = sum([1 for char in text if char in string.punctuation])\n",
        "    return round(count/(len(text) - text.count(\" \")), 4)*100\n",
        "\n",
        "def meta_features(data):\n",
        "    data1 = pd.DataFrame()\n",
        "    data1['tweet_length'] = data['text'].apply(lambda x: len(x) - x.count(\" \")) #tweet length without space\n",
        "    data1['% punctuation'] = data['text'].apply(lambda x: count_punct(x)) #percantege of punctuation\n",
        "    data1[\"words_count\"] = data[\"text\"].apply(lambda x: len(str(x).split())) #number of words\n",
        "    data1[\"unique_words_count\"] = data[\"text\"].apply(lambda x: len(set(str(x).split()))) ## Number of unique words in the text ##\n",
        "    ## Number of stopwords in the text ##\n",
        "    data1[\"stopwords_count\"] = data[\"text\"].apply(lambda x: len([w for w in str(x).lower().split() if w in STOPWORDS]))\n",
        "    ## Number of upper case words in the text ##\n",
        "    data1[\"words_uppercase_count\"] = data[\"text\"].apply(lambda x: len([w for w in str(x).split() if w.isupper()]))\n",
        "    ## Number of title case words in the text ##\n",
        "    data1[\"words_titlecase_count\"] = data[\"text\"].apply(lambda x: len([w for w in str(x).split() if w.istitle()]))\n",
        "    ## Average length of the words in the text ##\n",
        "    data1[\"mean_word_length\"] = data[\"text\"].apply(lambda x: np.mean([len(w) for w in str(x).split()]))\n",
        "    #number of hastags in tweet\n",
        "    data1[\"hashtags_count\"]=data[\"text\"].apply(lambda x : len([match.group(0)[1:] for match in re.finditer(r\"#(\\w+)\", x)]))\n",
        "    #number of mentions in tweet\n",
        "    data1[\"mentions_count\"]=data[\"text\"].apply(lambda x : len([match.group(0)[1:] for match in re.finditer(r\"@\\w+\", x)]))\n",
        "    #number of links in tweet\n",
        "    data1[\"links_count\"]=data[\"text\"].apply(lambda x : len([match.group(0)[:] for match in re.finditer(r\"https?://\\S+\", x)]))\n",
        "    #data1['target']=data['target']\n",
        "    return data1"
      ],
      "execution_count": null,
      "outputs": []
    },
    {
      "cell_type": "code",
      "metadata": {
        "id": "kpq5bIUJT5Nc"
      },
      "source": [
        "meta_eda = meta_features(dataset)\n",
        "#meta_eda = meta_eda.drop([\"words_titlecase_count\",\"words_uppercase_count\",\"hashtags_count\",\"mentions_count\",\"links_count\"],axis=1)"
      ],
      "execution_count": null,
      "outputs": []
    },
    {
      "cell_type": "code",
      "metadata": {
        "id": "c-r96_XOBKnj"
      },
      "source": [
        "mxtr,mxte,ytr,yte = train_test_split(meta_eda,dataset['target'],test_size=0.3,train_size=0.7,random_state=333)"
      ],
      "execution_count": null,
      "outputs": []
    },
    {
      "cell_type": "code",
      "metadata": {
        "id": "kkMDYrA5CNlF",
        "colab": {
          "base_uri": "https://localhost:8080/",
          "height": 438
        },
        "outputId": "1f2eb5e4-9756-43da-e9f3-0abac3385f06"
      },
      "source": [
        "mxtr"
      ],
      "execution_count": null,
      "outputs": [
        {
          "output_type": "execute_result",
          "data": {
            "text/html": [
              "<div>\n",
              "<style scoped>\n",
              "    .dataframe tbody tr th:only-of-type {\n",
              "        vertical-align: middle;\n",
              "    }\n",
              "\n",
              "    .dataframe tbody tr th {\n",
              "        vertical-align: top;\n",
              "    }\n",
              "\n",
              "    .dataframe thead th {\n",
              "        text-align: right;\n",
              "    }\n",
              "</style>\n",
              "<table border=\"1\" class=\"dataframe\">\n",
              "  <thead>\n",
              "    <tr style=\"text-align: right;\">\n",
              "      <th></th>\n",
              "      <th>tweet_length</th>\n",
              "      <th>% punctuation</th>\n",
              "      <th>words_count</th>\n",
              "      <th>unique_words_count</th>\n",
              "      <th>stopwords_count</th>\n",
              "      <th>words_uppercase_count</th>\n",
              "      <th>words_titlecase_count</th>\n",
              "      <th>mean_word_length</th>\n",
              "      <th>hashtags_count</th>\n",
              "      <th>mentions_count</th>\n",
              "      <th>links_count</th>\n",
              "    </tr>\n",
              "  </thead>\n",
              "  <tbody>\n",
              "    <tr>\n",
              "      <th>8598</th>\n",
              "      <td>81</td>\n",
              "      <td>8.64</td>\n",
              "      <td>12</td>\n",
              "      <td>12</td>\n",
              "      <td>3</td>\n",
              "      <td>6</td>\n",
              "      <td>0</td>\n",
              "      <td>6.750000</td>\n",
              "      <td>0</td>\n",
              "      <td>0</td>\n",
              "      <td>1</td>\n",
              "    </tr>\n",
              "    <tr>\n",
              "      <th>8220</th>\n",
              "      <td>73</td>\n",
              "      <td>15.07</td>\n",
              "      <td>14</td>\n",
              "      <td>14</td>\n",
              "      <td>4</td>\n",
              "      <td>2</td>\n",
              "      <td>1</td>\n",
              "      <td>5.214286</td>\n",
              "      <td>0</td>\n",
              "      <td>4</td>\n",
              "      <td>0</td>\n",
              "    </tr>\n",
              "    <tr>\n",
              "      <th>5916</th>\n",
              "      <td>73</td>\n",
              "      <td>2.74</td>\n",
              "      <td>16</td>\n",
              "      <td>16</td>\n",
              "      <td>6</td>\n",
              "      <td>16</td>\n",
              "      <td>1</td>\n",
              "      <td>4.500000</td>\n",
              "      <td>1</td>\n",
              "      <td>0</td>\n",
              "      <td>0</td>\n",
              "    </tr>\n",
              "    <tr>\n",
              "      <th>5979</th>\n",
              "      <td>93</td>\n",
              "      <td>6.45</td>\n",
              "      <td>19</td>\n",
              "      <td>19</td>\n",
              "      <td>8</td>\n",
              "      <td>0</td>\n",
              "      <td>2</td>\n",
              "      <td>4.894737</td>\n",
              "      <td>0</td>\n",
              "      <td>1</td>\n",
              "      <td>0</td>\n",
              "    </tr>\n",
              "    <tr>\n",
              "      <th>4626</th>\n",
              "      <td>71</td>\n",
              "      <td>8.45</td>\n",
              "      <td>12</td>\n",
              "      <td>12</td>\n",
              "      <td>4</td>\n",
              "      <td>0</td>\n",
              "      <td>1</td>\n",
              "      <td>5.916667</td>\n",
              "      <td>1</td>\n",
              "      <td>0</td>\n",
              "      <td>0</td>\n",
              "    </tr>\n",
              "    <tr>\n",
              "      <th>...</th>\n",
              "      <td>...</td>\n",
              "      <td>...</td>\n",
              "      <td>...</td>\n",
              "      <td>...</td>\n",
              "      <td>...</td>\n",
              "      <td>...</td>\n",
              "      <td>...</td>\n",
              "      <td>...</td>\n",
              "      <td>...</td>\n",
              "      <td>...</td>\n",
              "      <td>...</td>\n",
              "    </tr>\n",
              "    <tr>\n",
              "      <th>7534</th>\n",
              "      <td>80</td>\n",
              "      <td>7.50</td>\n",
              "      <td>12</td>\n",
              "      <td>12</td>\n",
              "      <td>3</td>\n",
              "      <td>0</td>\n",
              "      <td>1</td>\n",
              "      <td>6.666667</td>\n",
              "      <td>1</td>\n",
              "      <td>0</td>\n",
              "      <td>1</td>\n",
              "    </tr>\n",
              "    <tr>\n",
              "      <th>6067</th>\n",
              "      <td>82</td>\n",
              "      <td>9.76</td>\n",
              "      <td>13</td>\n",
              "      <td>13</td>\n",
              "      <td>1</td>\n",
              "      <td>0</td>\n",
              "      <td>1</td>\n",
              "      <td>6.307692</td>\n",
              "      <td>0</td>\n",
              "      <td>1</td>\n",
              "      <td>1</td>\n",
              "    </tr>\n",
              "    <tr>\n",
              "      <th>9635</th>\n",
              "      <td>85</td>\n",
              "      <td>9.41</td>\n",
              "      <td>13</td>\n",
              "      <td>13</td>\n",
              "      <td>1</td>\n",
              "      <td>4</td>\n",
              "      <td>4</td>\n",
              "      <td>6.538462</td>\n",
              "      <td>0</td>\n",
              "      <td>0</td>\n",
              "      <td>1</td>\n",
              "    </tr>\n",
              "    <tr>\n",
              "      <th>973</th>\n",
              "      <td>48</td>\n",
              "      <td>8.33</td>\n",
              "      <td>7</td>\n",
              "      <td>7</td>\n",
              "      <td>2</td>\n",
              "      <td>1</td>\n",
              "      <td>1</td>\n",
              "      <td>6.571429</td>\n",
              "      <td>0</td>\n",
              "      <td>2</td>\n",
              "      <td>0</td>\n",
              "    </tr>\n",
              "    <tr>\n",
              "      <th>8172</th>\n",
              "      <td>119</td>\n",
              "      <td>8.40</td>\n",
              "      <td>21</td>\n",
              "      <td>21</td>\n",
              "      <td>8</td>\n",
              "      <td>1</td>\n",
              "      <td>1</td>\n",
              "      <td>5.666667</td>\n",
              "      <td>0</td>\n",
              "      <td>0</td>\n",
              "      <td>1</td>\n",
              "    </tr>\n",
              "  </tbody>\n",
              "</table>\n",
              "<p>7613 rows × 11 columns</p>\n",
              "</div>"
            ],
            "text/plain": [
              "      tweet_length  % punctuation  words_count  unique_words_count  stopwords_count  words_uppercase_count  words_titlecase_count  mean_word_length  hashtags_count  mentions_count  links_count\n",
              "8598  81            8.64           12           12                  3                6                      0                      6.750000          0               0               1          \n",
              "8220  73            15.07          14           14                  4                2                      1                      5.214286          0               4               0          \n",
              "5916  73            2.74           16           16                  6                16                     1                      4.500000          1               0               0          \n",
              "5979  93            6.45           19           19                  8                0                      2                      4.894737          0               1               0          \n",
              "4626  71            8.45           12           12                  4                0                      1                      5.916667          1               0               0          \n",
              "...   ..             ...           ..           ..                 ..               ..                     ..                           ...         ..              ..              ..          \n",
              "7534  80            7.50           12           12                  3                0                      1                      6.666667          1               0               1          \n",
              "6067  82            9.76           13           13                  1                0                      1                      6.307692          0               1               1          \n",
              "9635  85            9.41           13           13                  1                4                      4                      6.538462          0               0               1          \n",
              "973   48            8.33           7            7                   2                1                      1                      6.571429          0               2               0          \n",
              "8172  119           8.40           21           21                  8                1                      1                      5.666667          0               0               1          \n",
              "\n",
              "[7613 rows x 11 columns]"
            ]
          },
          "metadata": {
            "tags": []
          },
          "execution_count": 49
        }
      ]
    },
    {
      "cell_type": "code",
      "metadata": {
        "id": "Ywppth66Bfyl"
      },
      "source": [
        "from sklearn.linear_model import LogisticRegression\n",
        "from sklearn.model_selection import cross_val_score\n",
        "from sklearn.tree import DecisionTreeClassifier\n",
        "from sklearn.linear_model import SGDClassifier"
      ],
      "execution_count": null,
      "outputs": []
    },
    {
      "cell_type": "code",
      "metadata": {
        "id": "sXGS6oHTBl0z"
      },
      "source": [
        "log = LogisticRegression()\n",
        "scaler = StandardScaler()\n",
        "svm = SVC()\n",
        "sgd = SGDClassifier()\n",
        "dxtree = DecisionTreeClassifier()\n",
        "mnb = MultinomialNB()"
      ],
      "execution_count": null,
      "outputs": []
    },
    {
      "cell_type": "code",
      "metadata": {
        "id": "1Hc5APeZBo8i"
      },
      "source": [
        "from sklearn.preprocessing import StandardScaler\n",
        "scaled = scaler.fit_transform(mxtr)\n",
        "test_scaled = scaler.fit_transform(mxte)"
      ],
      "execution_count": null,
      "outputs": []
    },
    {
      "cell_type": "code",
      "metadata": {
        "id": "1YnEgudMFhV2",
        "colab": {
          "base_uri": "https://localhost:8080/",
          "height": 84
        },
        "outputId": "9c880dc3-d8f7-4a82-838f-640635c1f9c2"
      },
      "source": [
        "log.fit(scaled,ytr)\n",
        "svm.fit(scaled,ytr)"
      ],
      "execution_count": null,
      "outputs": [
        {
          "output_type": "execute_result",
          "data": {
            "text/plain": [
              "SVC(C=1.0, break_ties=False, cache_size=200, class_weight=None, coef0=0.0,\n",
              "    decision_function_shape='ovr', degree=3, gamma='scale', kernel='rbf',\n",
              "    max_iter=-1, probability=False, random_state=None, shrinking=True,\n",
              "    tol=0.001, verbose=False)"
            ]
          },
          "metadata": {
            "tags": []
          },
          "execution_count": 53
        }
      ]
    },
    {
      "cell_type": "code",
      "metadata": {
        "id": "MpbaP4A4Ps7H",
        "colab": {
          "base_uri": "https://localhost:8080/",
          "height": 118
        },
        "outputId": "c79a9f07-635e-40bf-f686-9fe8d2044c05"
      },
      "source": [
        "dxtree.fit(scaled,ytr)"
      ],
      "execution_count": null,
      "outputs": [
        {
          "output_type": "execute_result",
          "data": {
            "text/plain": [
              "DecisionTreeClassifier(ccp_alpha=0.0, class_weight=None, criterion='gini',\n",
              "                       max_depth=None, max_features=None, max_leaf_nodes=None,\n",
              "                       min_impurity_decrease=0.0, min_impurity_split=None,\n",
              "                       min_samples_leaf=1, min_samples_split=2,\n",
              "                       min_weight_fraction_leaf=0.0, presort='deprecated',\n",
              "                       random_state=None, splitter='best')"
            ]
          },
          "metadata": {
            "tags": []
          },
          "execution_count": 137
        }
      ]
    },
    {
      "cell_type": "code",
      "metadata": {
        "id": "w-8JdukduZhF",
        "colab": {
          "base_uri": "https://localhost:8080/",
          "height": 34
        },
        "outputId": "24abb925-8df2-4306-a39c-cee8a47b61f0"
      },
      "source": [
        "mnb.fit(mxtr,ytr)"
      ],
      "execution_count": null,
      "outputs": [
        {
          "output_type": "execute_result",
          "data": {
            "text/plain": [
              "MultinomialNB(alpha=1.0, class_prior=None, fit_prior=True)"
            ]
          },
          "metadata": {
            "tags": []
          },
          "execution_count": 141
        }
      ]
    },
    {
      "cell_type": "code",
      "metadata": {
        "id": "vLtNcitTuluk",
        "colab": {
          "base_uri": "https://localhost:8080/",
          "height": 34
        },
        "outputId": "32a76124-aea6-4174-f25a-a2d931ebf18f"
      },
      "source": [
        "mnb.score(mxte,yte)"
      ],
      "execution_count": null,
      "outputs": [
        {
          "output_type": "execute_result",
          "data": {
            "text/plain": [
              "0.6218204106650321"
            ]
          },
          "metadata": {
            "tags": []
          },
          "execution_count": 142
        }
      ]
    },
    {
      "cell_type": "code",
      "metadata": {
        "id": "X7jNBCEuFnQ9"
      },
      "source": [
        "log.score(test_scaled,yte)"
      ],
      "execution_count": null,
      "outputs": []
    },
    {
      "cell_type": "code",
      "metadata": {
        "id": "pjiInRpHGRfh",
        "colab": {
          "base_uri": "https://localhost:8080/",
          "height": 34
        },
        "outputId": "c830fc81-8cfb-4df5-c948-fd8f197f76e5"
      },
      "source": [
        "svm.score(test_scaled,yte)"
      ],
      "execution_count": null,
      "outputs": [
        {
          "output_type": "execute_result",
          "data": {
            "text/plain": [
              "0.6834201654918787"
            ]
          },
          "metadata": {
            "tags": []
          },
          "execution_count": 55
        }
      ]
    },
    {
      "cell_type": "code",
      "metadata": {
        "id": "VMewED5mPwAf",
        "colab": {
          "base_uri": "https://localhost:8080/",
          "height": 34
        },
        "outputId": "9d9ea325-23a9-4120-cf57-b145f484af7b"
      },
      "source": [
        "sgd.score(test_scaled,yte)"
      ],
      "execution_count": null,
      "outputs": [
        {
          "output_type": "execute_result",
          "data": {
            "text/plain": [
              "0.6346920012258658"
            ]
          },
          "metadata": {
            "tags": []
          },
          "execution_count": 60
        }
      ]
    },
    {
      "cell_type": "code",
      "metadata": {
        "id": "Lgbr44deskzV",
        "colab": {
          "base_uri": "https://localhost:8080/",
          "height": 34
        },
        "outputId": "57a70a23-c84c-403c-d570-06863eb3aa86"
      },
      "source": [
        "dxtree.score(test_scaled,yte)"
      ],
      "execution_count": null,
      "outputs": [
        {
          "output_type": "execute_result",
          "data": {
            "text/plain": [
              "0.614158749616917"
            ]
          },
          "metadata": {
            "tags": []
          },
          "execution_count": 138
        }
      ]
    },
    {
      "cell_type": "code",
      "metadata": {
        "id": "-gwTy5ggT-Lx",
        "colab": {
          "base_uri": "https://localhost:8080/",
          "height": 645
        },
        "outputId": "c5ea2a4c-cd16-47c4-c96d-d95487e0e687"
      },
      "source": [
        "fig,ax = plt.subplots(2,3,figsize=(8,8))\n",
        "fig.subplots_adjust(bottom=0.000012,right=2)\n",
        "\n",
        "sns.distplot(meta_eda[meta_eda['target'] == 0]['tweet_length'],label=\"Not\",ax=ax[0][0])\n",
        "sns.distplot(meta_eda[meta_eda['target'] == 1]['tweet_length'],label=\"Real\",ax=ax[0][0])\n",
        "\n",
        "sns.distplot(meta_eda[meta_eda['target'] == 0]['% punctuation'],ax=ax[0][1])\n",
        "sns.distplot(meta_eda[meta_eda['target'] == 1]['% punctuation'],ax=ax[0][1])\n",
        "\n",
        "sns.distplot(meta_eda[meta_eda['target'] == 0]['words_count'],ax=ax[0][2])\n",
        "sns.distplot(meta_eda[meta_eda['target'] == 1]['words_count'],ax=ax[0][2])\n",
        "\n",
        "sns.distplot(meta_eda[meta_eda['target'] == 0]['unique_words_count'],ax=ax[1][0])\n",
        "sns.distplot(meta_eda[meta_eda['target'] == 1]['unique_words_count'],ax=ax[1][0])\n",
        "\n",
        "sns.distplot(meta_eda[meta_eda['target'] == 0]['stopwords_count'],ax=ax[1][1])\n",
        "sns.distplot(meta_eda[meta_eda['target'] == 1]['stopwords_count'],ax=ax[1][1])\n",
        "\n",
        "#sns.distplot(meta_eda[meta_eda['target'] == 0]['words_uppercase_count'],ax=ax[1][2])\n",
        "#sns.distplot(meta_eda[meta_eda['target'] == 1]['words_uppercase_count'],ax=ax[1][2])\n",
        "\n",
        "#sns.distplot(meta_eda[meta_eda['target'] == 0]['words_titlecase_count'],ax=ax[2][0])\n",
        "#sns.distplot(meta_eda[meta_eda['target'] == 1]['words_titlecase_count'],ax=ax[2][0])\n",
        "\n",
        "sns.distplot(meta_eda[meta_eda['target'] == 0]['mean_word_length'],ax=ax[1][2])\n",
        "sns.distplot(meta_eda[meta_eda['target'] == 1]['mean_word_length'],ax=ax[1][2])\n",
        "\n",
        "#sns.distplot(meta_eda[meta_eda['target'] == 0]['hashtags_count'],ax=ax[2][2])\n",
        "#sns.distplot(meta_eda[meta_eda['target'] == 1]['hashtags_count'],ax=ax[2][2])\n",
        "\n",
        "#sns.distplot(meta_eda[meta_eda['target'] == 0]['mentions_count'],ax=ax[3][0])\n",
        "#sns.distplot(meta_eda[meta_eda['target'] == 1]['mentions_count'],ax=ax[3][0])\n",
        "\n",
        "#sns.distplot(meta_eda[meta_eda['target'] == 0]['links_count'],ax=ax[3][1])\n",
        "#sns.distplot(meta_eda[meta_eda['target'] == 1]['links_count'],ax=ax[3][1])\n",
        "\n",
        "fig.legend();"
      ],
      "execution_count": null,
      "outputs": [
        {
          "output_type": "display_data",
          "data": {
            "image/png": "[encoded data removed]",
            "text/plain": [
              "<Figure size 576x576 with 6 Axes>"
            ]
          },
          "metadata": {
            "tags": [],
            "needs_background": "light"
          }
        }
      ]
    },
    {
      "cell_type": "markdown",
      "metadata": {
        "id": "HMEHYNkbXFpz"
      },
      "source": [
        ""
      ]
    },
    {
      "cell_type": "code",
      "metadata": {
        "id": "OCR0DN48ZKq5"
      },
      "source": [
        "#Slang/Abbrevated word Extraction\n",
        "\n",
        "# https://github.com/rishabhverma17/sms_slang_translator/blob/master/slang.txt\n",
        "abbreviations = {\n",
        "    \"$\" : \" dollar \",\n",
        "    \"€\" : \" euro \",\n",
        "    \"4ao\" : \"for adults only\",\n",
        "    \"a.m\" : \"before midday\",\n",
        "    \"a3\" : \"anytime anywhere anyplace\",\n",
        "    \"aamof\" : \"as a matter of fact\",\n",
        "    \"acct\" : \"account\",\n",
        "    \"adih\" : \"another day in hell\",\n",
        "    \"afaic\" : \"as far as i am concerned\",\n",
        "    \"afaict\" : \"as far as i can tell\",\n",
        "    \"afaik\" : \"as far as i know\",\n",
        "    \"afair\" : \"as far as i remember\",\n",
        "    \"afk\" : \"away from keyboard\",\n",
        "    \"app\" : \"application\",\n",
        "    \"approx\" : \"approximately\",\n",
        "    \"apps\" : \"applications\",\n",
        "    \"asap\" : \"as soon as possible\",\n",
        "    \"asl\" : \"age, sex, location\",\n",
        "    \"atk\" : \"at the keyboard\",\n",
        "    \"ave.\" : \"avenue\",\n",
        "    \"aymm\" : \"are you my mother\",\n",
        "    \"ayor\" : \"at your own risk\", \n",
        "    \"b&b\" : \"bed and breakfast\",\n",
        "    \"b+b\" : \"bed and breakfast\",\n",
        "    \"b.c\" : \"before christ\",\n",
        "    \"b2b\" : \"business to business\",\n",
        "    \"b2c\" : \"business to customer\",\n",
        "    \"b4\" : \"before\",\n",
        "    \"b4n\" : \"bye for now\",\n",
        "    \"b@u\" : \"back at you\",\n",
        "    \"bae\" : \"before anyone else\",\n",
        "    \"bak\" : \"back at keyboard\",\n",
        "    \"bbbg\" : \"bye bye be good\",\n",
        "    \"bbc\" : \"british broadcasting corporation\",\n",
        "    \"bbias\" : \"be back in a second\",\n",
        "    \"bbl\" : \"be back later\",\n",
        "    \"bbs\" : \"be back soon\",\n",
        "    \"be4\" : \"before\",\n",
        "    \"bfn\" : \"bye for now\",\n",
        "    \"blvd\" : \"boulevard\",\n",
        "    \"bout\" : \"about\",\n",
        "    \"brb\" : \"be right back\",\n",
        "    \"bros\" : \"brothers\",\n",
        "    \"brt\" : \"be right there\",\n",
        "    \"bsaaw\" : \"big smile and a wink\",\n",
        "    \"btw\" : \"by the way\",\n",
        "    \"bwl\" : \"bursting with laughter\",\n",
        "    \"c/o\" : \"care of\",\n",
        "    \"cet\" : \"central european time\",\n",
        "    \"cf\" : \"compare\",\n",
        "    \"cia\" : \"central intelligence agency\",\n",
        "    \"csl\" : \"can not stop laughing\",\n",
        "    \"cu\" : \"see you\",\n",
        "    \"cul8r\" : \"see you later\",\n",
        "    \"cv\" : \"curriculum vitae\",\n",
        "    \"cwot\" : \"complete waste of time\",\n",
        "    \"cya\" : \"see you\",\n",
        "    \"cyt\" : \"see you tomorrow\",\n",
        "    \"dae\" : \"does anyone else\",\n",
        "    \"dbmib\" : \"do not bother me i am busy\",\n",
        "    \"diy\" : \"do it yourself\",\n",
        "    \"dm\" : \"direct message\",\n",
        "    \"dwh\" : \"during work hours\",\n",
        "    \"e123\" : \"easy as one two three\",\n",
        "    \"eet\" : \"eastern european time\",\n",
        "    \"eg\" : \"example\",\n",
        "    \"embm\" : \"early morning business meeting\",\n",
        "    \"encl\" : \"enclosed\",\n",
        "    \"encl.\" : \"enclosed\",\n",
        "    \"etc\" : \"and so on\",\n",
        "    \"faq\" : \"frequently asked questions\",\n",
        "    \"fawc\" : \"for anyone who cares\",\n",
        "    \"fb\" : \"facebook\",\n",
        "    \"fc\" : \"fingers crossed\",\n",
        "    \"fig\" : \"figure\",\n",
        "    \"fimh\" : \"forever in my heart\", \n",
        "    \"ft.\" : \"feet\",\n",
        "    \"ft\" : \"featuring\",\n",
        "    \"ftl\" : \"for the loss\",\n",
        "    \"ftw\" : \"for the win\",\n",
        "    \"fwiw\" : \"for what it is worth\",\n",
        "    \"fyi\" : \"for your information\",\n",
        "    \"g9\" : \"genius\",\n",
        "    \"gahoy\" : \"get a hold of yourself\",\n",
        "    \"gal\" : \"get a life\",\n",
        "    \"gcse\" : \"general certificate of secondary education\",\n",
        "    \"gfn\" : \"gone for now\",\n",
        "    \"gg\" : \"good game\",\n",
        "    \"gl\" : \"good luck\",\n",
        "    \"glhf\" : \"good luck have fun\",\n",
        "    \"gmt\" : \"greenwich mean time\",\n",
        "    \"gmta\" : \"great minds think alike\",\n",
        "    \"gn\" : \"good night\",\n",
        "    \"g.o.a.t\" : \"greatest of all time\",\n",
        "    \"goat\" : \"greatest of all time\",\n",
        "    \"goi\" : \"get over it\",\n",
        "    \"gps\" : \"global positioning system\",\n",
        "    \"gr8\" : \"great\",\n",
        "    \"gratz\" : \"congratulations\",\n",
        "    \"gyal\" : \"girl\",\n",
        "    \"h&c\" : \"hot and cold\",\n",
        "    \"hp\" : \"horsepower\",\n",
        "    \"hr\" : \"hour\",\n",
        "    \"hrh\" : \"his royal highness\",\n",
        "    \"ht\" : \"height\",\n",
        "    \"ibrb\" : \"i will be right back\",\n",
        "    \"ic\" : \"i see\",\n",
        "    \"icq\" : \"i seek you\",\n",
        "    \"icymi\" : \"in case you missed it\",\n",
        "    \"idc\" : \"i do not care\",\n",
        "    \"idgadf\" : \"i do not give a damn fuck\",\n",
        "    \"idgaf\" : \"i do not give a fuck\",\n",
        "    \"idk\" : \"i do not know\",\n",
        "    \"ie\" : \"that is\",\n",
        "    \"i.e\" : \"that is\",\n",
        "    \"ifyp\" : \"i feel your pain\",\n",
        "    \"IG\" : \"instagram\",\n",
        "    \"iirc\" : \"if i remember correctly\",\n",
        "    \"ilu\" : \"i love you\",\n",
        "    \"ily\" : \"i love you\",\n",
        "    \"imho\" : \"in my humble opinion\",\n",
        "    \"imo\" : \"in my opinion\",\n",
        "    \"imu\" : \"i miss you\",\n",
        "    \"iow\" : \"in other words\",\n",
        "    \"irl\" : \"in real life\",\n",
        "    \"j4f\" : \"just for fun\",\n",
        "    \"jic\" : \"just in case\",\n",
        "    \"jk\" : \"just kidding\",\n",
        "    \"jsyk\" : \"just so you know\",\n",
        "    \"l8r\" : \"later\",\n",
        "    \"lb\" : \"pound\",\n",
        "    \"lbs\" : \"pounds\",\n",
        "    \"ldr\" : \"long distance relationship\",\n",
        "    \"lmao\" : \"laugh my ass off\",\n",
        "    \"lmfao\" : \"laugh my fucking ass off\",\n",
        "    \"lol\" : \"laughing out loud\",\n",
        "    \"ltd\" : \"limited\",\n",
        "    \"ltns\" : \"long time no see\",\n",
        "    \"m8\" : \"mate\",\n",
        "    \"mf\" : \"motherfucker\",\n",
        "    \"mfs\" : \"motherfuckers\",\n",
        "    \"mfw\" : \"my face when\",\n",
        "    \"mofo\" : \"motherfucker\",\n",
        "    \"mph\" : \"miles per hour\",\n",
        "    \"mr\" : \"mister\",\n",
        "    \"mrw\" : \"my reaction when\",\n",
        "    \"ms\" : \"miss\",\n",
        "    \"mte\" : \"my thoughts exactly\",\n",
        "    \"nagi\" : \"not a good idea\",\n",
        "    \"nbc\" : \"national broadcasting company\",\n",
        "    \"nbd\" : \"not big deal\",\n",
        "    \"nfs\" : \"not for sale\",\n",
        "    \"ngl\" : \"not going to lie\",\n",
        "    \"nhs\" : \"national health service\",\n",
        "    \"nrn\" : \"no reply necessary\",\n",
        "    \"nsfl\" : \"not safe for life\",\n",
        "    \"nsfw\" : \"not safe for work\",\n",
        "    \"nth\" : \"nice to have\",\n",
        "    \"nvr\" : \"never\",\n",
        "    \"nyc\" : \"new york city\",\n",
        "    \"oc\" : \"original content\",\n",
        "    \"og\" : \"original\",\n",
        "    \"ohp\" : \"overhead projector\",\n",
        "    \"oic\" : \"oh i see\",\n",
        "    \"omdb\" : \"over my dead body\",\n",
        "    \"omg\" : \"oh my god\",\n",
        "    \"omw\" : \"on my way\",\n",
        "    \"p.a\" : \"per annum\",\n",
        "    \"p.m\" : \"after midday\",\n",
        "    \"pm\" : \"prime minister\",\n",
        "    \"poc\" : \"people of color\",\n",
        "    \"pov\" : \"point of view\",\n",
        "    \"pp\" : \"pages\",\n",
        "    \"ppl\" : \"people\",\n",
        "    \"prw\" : \"parents are watching\",\n",
        "    \"ps\" : \"postscript\",\n",
        "    \"pt\" : \"point\",\n",
        "    \"ptb\" : \"please text back\",\n",
        "    \"pto\" : \"please turn over\",\n",
        "    \"qpsa\" : \"what happens\", #\"que pasa\",\n",
        "    \"ratchet\" : \"rude\",\n",
        "    \"rbtl\" : \"read between the lines\",\n",
        "    \"rlrt\" : \"real life retweet\", \n",
        "    \"rofl\" : \"rolling on the floor laughing\",\n",
        "    \"roflol\" : \"rolling on the floor laughing out loud\",\n",
        "    \"rotflmao\" : \"rolling on the floor laughing my ass off\",\n",
        "    \"rt\" : \"retweet\",\n",
        "    \"ruok\" : \"are you ok\",\n",
        "    \"sfw\" : \"safe for work\",\n",
        "    \"sk8\" : \"skate\",\n",
        "    \"smh\" : \"shake my head\",\n",
        "    \"sq\" : \"square\",\n",
        "    \"srsly\" : \"seriously\", \n",
        "    \"ssdd\" : \"same stuff different day\",\n",
        "    \"tbh\" : \"to be honest\",\n",
        "    \"tbs\" : \"tablespooful\",\n",
        "    \"tbsp\" : \"tablespooful\",\n",
        "    \"tfw\" : \"that feeling when\",\n",
        "    \"thks\" : \"thank you\",\n",
        "    \"tho\" : \"though\",\n",
        "    \"thx\" : \"thank you\",\n",
        "    \"tia\" : \"thanks in advance\",\n",
        "    \"til\" : \"today i learned\",\n",
        "    \"tl;dr\" : \"too long i did not read\",\n",
        "    \"tldr\" : \"too long i did not read\",\n",
        "    \"tmb\" : \"tweet me back\",\n",
        "    \"tntl\" : \"trying not to laugh\",\n",
        "    \"ttyl\" : \"talk to you later\",\n",
        "    \"u\" : \"you\",\n",
        "    \"u2\" : \"you too\",\n",
        "    \"u4e\" : \"yours for ever\",\n",
        "    \"utc\" : \"coordinated universal time\",\n",
        "    \"w/\" : \"with\",\n",
        "    \"w/o\" : \"without\",\n",
        "    \"w8\" : \"wait\",\n",
        "    \"wassup\" : \"what is up\",\n",
        "    \"wb\" : \"welcome back\",\n",
        "    \"wtf\" : \"what the fuck\",\n",
        "    \"wtg\" : \"way to go\",\n",
        "    \"wtpa\" : \"where the party at\",\n",
        "    \"wuf\" : \"where are you from\",\n",
        "    \"wuzup\" : \"what is up\",\n",
        "    \"wywh\" : \"wish you were here\",\n",
        "    \"yd\" : \"yard\",\n",
        "    \"ygtr\" : \"you got that right\",\n",
        "    \"ynk\" : \"you never know\",\n",
        "    \"zzz\" : \"sleeping bored and tired\",\n",
        "    'msg':'Message',\n",
        "    'rip':'Rest in peace',\n",
        "    'u.s':'United States'\n",
        "}\n",
        "\n",
        "#Converts text like \"OMG\" into \"Oh my God\"\n",
        "def unslang(text):\n",
        "    tokens = []\n",
        "    for i in text.lower().split():\n",
        "        if i in abbreviations.keys():\n",
        "            tokens.append(abbreviations[i].lower())\n",
        "        else:\n",
        "            tokens.append(i.lower())\n",
        "    text = ' '.join([word.lower() for word in tokens])\n",
        "    return text\n",
        "\n",
        "def strip_links(text):\n",
        "    link_regex    = re.compile('((https?):((//)|(\\\\\\\\))+([\\w\\d:#@%/;$()~_?\\+-=\\\\\\.&](#!)?)*)', re.DOTALL)\n",
        "    links         = re.findall(link_regex, text)\n",
        "    for link in links:\n",
        "        text = text.replace(link[0], '')    \n",
        "    return text\n",
        "\n",
        "# https://stackoverflow.com/a/47091490  \"\"\"Convert contractions like \"can't\" into \"can not\"\n",
        "def decontracted(phrase):\n",
        "    \"\"\"Convert contractions like \"can't\" into \"can not\"\n",
        "    \"\"\"\n",
        "    # specific\n",
        "    phrase = re.sub(r\"won\\'t\", \"will not\", phrase)\n",
        "    phrase = re.sub(r\"can\\'t\", \"can not\", phrase)\n",
        "\n",
        "    # general\n",
        "    #phrase = re.sub(r\"n't\", \" not\", phrase) # resulted in \"ca not\" when sentence started with \"can't\"\n",
        "    phrase = re.sub(r\"\\'re\", \" are\", phrase)\n",
        "    phrase = re.sub(r\"\\'s\", \" is\", phrase)\n",
        "    phrase = re.sub(r\"\\'d\", \" would\", phrase)\n",
        "    phrase = re.sub(r\"\\'ll\", \" will\", phrase)\n",
        "    phrase = re.sub(r\"\\'t\", \" not\", phrase)\n",
        "    phrase = re.sub(r\"\\'ve\", \" have\", phrase)\n",
        "    phrase = re.sub(r\"\\'m\", \" am\", phrase)\n",
        "    return phrase\n",
        "\n",
        "# Reference : https://gist.github.com/slowkow/7a7f61f495e3dbb7e3d767f97bd7304b\n",
        "def remove_emoji(text):\n",
        "    emoji_pattern = re.compile(\"[\"\n",
        "                           u\"\\U0001F600-\\U0001F64F\"  # emoticons\n",
        "                           u\"\\U0001F300-\\U0001F5FF\"  # symbols & pictographs\n",
        "                           u\"\\U0001F680-\\U0001F6FF\"  # transport & map symbols\n",
        "                           u\"\\U0001F1E0-\\U0001F1FF\"  # flags (iOS)\n",
        "                           u\"\\U00002702-\\U000027B0\"\n",
        "                           u\"\\U000024C2-\\U0001F251\"\n",
        "                           \"]+\", flags=re.UNICODE)\n",
        "    return emoji_pattern.sub(r'', text)\n",
        "\n",
        "def remove_html_tags(text):\n",
        "    html=re.compile(r'<.*?>')\n",
        "    return html.sub(r'',text)\n",
        "\n",
        "def remove_punct(text):\n",
        "    table=str.maketrans('','',string.punctuation)\n",
        "    return text.translate(table)\n",
        "\n",
        "# replace multiple spaces with one.and lemmatize it after removing stopwords\n",
        "def clean_text(text):\n",
        "    \n",
        "    text = re.sub('\\s{2,}', ' ', text)\n",
        "    tokens = re.split('\\W+', text)\n",
        "    #tokens = [word_lemmenatization.lemmatize(word,pos=\"v\") for word in tokens] #if word not in stopwords]\n",
        "    text = ' '.join([word.lower() for word in tokens])\n",
        "    return text"
      ],
      "execution_count": null,
      "outputs": []
    },
    {
      "cell_type": "code",
      "metadata": {
        "id": "1ApKgVPBaMSF"
      },
      "source": [
        "def process_text(df):\n",
        "    df1=df\n",
        "    df1['clean_text']=df['text'].apply(lambda x : strip_links(x))\n",
        "    df1['clean_text']=df['clean_text'].apply(lambda x : remove_html_tags(x))\n",
        "    df1['clean_text']=df['clean_text'].apply(lambda x : unslang(x))\n",
        "    df1['clean_text']=df['clean_text'].apply(lambda x : decontracted(x))\n",
        "    df1['clean_text']=df['clean_text'].apply(lambda x: remove_emoji(x))\n",
        "    df1['clean_text']=df['clean_text'].apply(lambda x : remove_punct(x))\n",
        "    df1['clean_text'] = df['clean_text'].apply(lambda x: clean_text(x))\n",
        "    df1 = df.drop(['keyword','location'],axis=1)\n",
        "    return df1"
      ],
      "execution_count": null,
      "outputs": []
    },
    {
      "cell_type": "code",
      "metadata": {
        "id": "1FmSfObrapyP",
        "colab": {
          "base_uri": "https://localhost:8080/",
          "height": 50
        },
        "outputId": "3ccc2bce-391a-41a0-f797-4219e955d8a4"
      },
      "source": [
        "nltk.download('wordnet')\n",
        "cleaned_data = process_text(dataset)"
      ],
      "execution_count": null,
      "outputs": [
        {
          "output_type": "stream",
          "text": [
            "[nltk_data] Downloading package wordnet to /root/nltk_data...\n",
            "[nltk_data]   Package wordnet is already up-to-date!\n"
          ],
          "name": "stdout"
        }
      ]
    },
    {
      "cell_type": "code",
      "metadata": {
        "id": "dolRot8ZUbmD"
      },
      "source": [
        "from nltk.util import ngrams\n",
        "from sklearn.feature_extraction.text import TfidfVectorizer, CountVectorizer, TfidfTransformer\n",
        "\n",
        "def get_top_tweet_ngrams(corpus, n):\n",
        "    vec = CountVectorizer(ngram_range=(n, n)).fit(corpus)\n",
        "    bag_of_words = vec.transform(corpus)\n",
        "    sum_words = bag_of_words.sum(axis=0) \n",
        "    words_freq = [(word, sum_words[0, idx]) for word, idx in vec.vocabulary_.items()]\n",
        "    words_freq =sorted(words_freq, key = lambda x: x[1], reverse=True)\n",
        "    return words_freq[:20]\n",
        "\n",
        "def corpus(target):\n",
        "    return dataset[dataset['target']==target]['clean_text']\n",
        "\n",
        "def plot_bar(n,ngram):\n",
        "    fig,ax = plt.subplots(1,2,figsize=(3,10))\n",
        "    fig.subplots_adjust(bottom=0.000012,right=10)\n",
        "    x1,y1=map(list,zip(*get_top_tweet_ngrams(corpus(1),n)[:10]))\n",
        "    x2,y2=map(list,zip(*get_top_tweet_ngrams(corpus(0),n)[:10]))\n",
        "    sns.barplot(x=y1,y=x1,ax=ax[0]).set_title(\"Top 10 \"+str(ngram)+\" in Real\")\n",
        "    sns.barplot(x=y2,y=x2,ax=ax[1]).set_title(\"Top 10 \"+str(ngram)+\" in Not Real\")"
      ],
      "execution_count": null,
      "outputs": []
    },
    {
      "cell_type": "code",
      "metadata": {
        "id": "e5cyD1ruUiyv",
        "colab": {
          "base_uri": "https://localhost:8080/",
          "height": 1000
        },
        "outputId": "f6fd5e91-39e2-4816-b2fa-3093c202bec6"
      },
      "source": [
        "plot_bar(1,\"Unigram\")\n",
        "plot_bar(2,\"Bigram\")\n",
        "plot_bar(3,\"Trigram\")"
      ],
      "execution_count": null,
      "outputs": [
        {
          "output_type": "display_data",
          "data": {
            "image/png": "[encoded data removed]",
            "text/plain": [
              "<Figure size 216x720 with 2 Axes>"
            ]
          },
          "metadata": {
            "tags": [],
            "needs_background": "light"
          }
        },
        {
          "output_type": "display_data",
          "data": {
            "image/png": "[encoded data removed]",
            "text/plain": [
              "<Figure size 216x720 with 2 Axes>"
            ]
          },
          "metadata": {
            "tags": [],
            "needs_background": "light"
          }
        },
        {
          "output_type": "display_data",
          "data": {
            "image/png": "[encoded data removed]",
            "text/plain": [
              "<Figure size 216x720 with 2 Axes>"
            ]
          },
          "metadata": {
            "tags": [],
            "needs_background": "light"
          }
        }
      ]
    },
    {
      "cell_type": "code",
      "metadata": {
        "id": "cRJRFcwxUyxa"
      },
      "source": [
        "from sklearn.model_selection import train_test_split\n",
        "from sklearn.linear_model import LogisticRegression\n",
        "from sklearn.model_selection import cross_validate\n",
        "from sklearn.metrics import f1_score,accuracy_score, make_scorer,recall_score\n",
        "from sklearn.svm import SVC\n",
        "from sklearn.naive_bayes import MultinomialNB\n",
        "from sklearn import tree,decomposition\n",
        "from sklearn.decomposition import TruncatedSVD\n",
        "from sklearn.preprocessing import StandardScaler\n",
        "from sklearn.pipeline import Pipeline\n",
        "from sklearn.model_selection import GridSearchCV\n",
        "from pprint import pprint\n",
        "from time import time\n",
        "\n",
        "\n",
        "scoring = {'accuracy':make_scorer(accuracy_score), 'f1_score':make_scorer(f1_score)}#,'precision': 'precision_macro','recall': make_scorer(recall_score, average='macro')}\n",
        "scaler = StandardScaler()\n",
        "train,test = train_test_split(cleaned_data,test_size=0.3,train_size=0.7,random_state=333)\n",
        "\n",
        "ytrain = train[\"target\"]\n",
        "ytest = test[\"target\"]\n",
        "\n",
        "pca = TruncatedSVD(98)\n",
        "\n",
        "def make_pipeline(clf):\n",
        "  pipeline = Pipeline([\n",
        "    ('vect', CountVectorizer()),\n",
        "    ('tfidf', TfidfTransformer()),\n",
        "    #('pca', pca),\n",
        "    #('scl',StandardScaler(with_mean=False)),\n",
        "    ('clf', clf),\n",
        "  ])\n",
        "  return pipeline\n",
        "\n",
        "n_components = [range(1,50,1)]\n",
        "    # Create a list of values of the regularization parameter\n",
        "\n",
        "vect_parameters = {\n",
        "      #'vect__stop_words':('english',None),\n",
        "      'vect__ngram_range': ((1, 1), (1, 2),(1,3))} \n",
        "\n",
        "      #  'vect__max_features': (None, 5000, 10000, 50000),\n",
        "      #'vect__binary':(True,False)}\n",
        "      #'tfidf__use_idf': (True),\n",
        "      #'vect__min_df': (np.arange(0,0.1,0.01)),\n",
        "      #'tfidf__norm': ('l2')}\n"
      ],
      "execution_count": null,
      "outputs": []
    },
    {
      "cell_type": "code",
      "metadata": {
        "id": "LXYUNUDVGFlU"
      },
      "source": [
        "def grid__search(pipeline,clf,parameters):\n",
        "\n",
        "  if __name__ == \"__main__\":\n",
        "    # multiprocessing requires the fork to happen in a __main__ protected\n",
        "    # block\n",
        "\n",
        "    # find the best parameters for both the feature extraction and the\n",
        "    # classifier\n",
        "    grid_search = GridSearchCV(pipeline, parameters, n_jobs=-1, verbose=1,scoring=scoring,return_train_score=True,refit='f1_score')\n",
        "\n",
        "    print(\"Performing grid search...\")\n",
        "    print(\"pipeline:\", [name for name, _ in pipeline.steps])\n",
        "    print(\"parameters:\")\n",
        "    pprint(parameters)\n",
        "    t0 = time()\n",
        "    grid_search.fit(train.clean_text, train.target)\n",
        "    print(\"done in %0.3fs\" % (time() - t0))\n",
        "    print()\n",
        "    idx=list(np.where(grid_search.cv_results_['rank_test_f1_score']==1)[0])\n",
        "\n",
        "    print(\"Best train accuracy: %0.3f\" % grid_search.cv_results_['mean_train_accuracy'][idx[0]])\n",
        "    print(\"Best test accuracy: %0.3f\" % grid_search.cv_results_['mean_test_accuracy'][idx[0]])\n",
        "    print(\"Best f1 score: %0.3f\" % grid_search.cv_results_['mean_test_f1_score'][idx[0]])\n",
        "    print(\"Best parameters set:\")\n",
        "    best_parameters = grid_search.best_estimator_.get_params()\n",
        "    for param_name in sorted(parameters.keys()):\n",
        "        print(\"\\t%s: %r\" % (param_name, best_parameters[param_name]))\n",
        "    return grid_search.cv_results_\n",
        "\n",
        "def plot_cv(results,param,scoring):\n",
        "  plt.figure(figsize=(13, 13))\n",
        "  plt.title(\"GridSearchCV evaluating using multiple scorers simultaneously\",\n",
        "          fontsize=16)\n",
        "  plt.xlabel(param)\n",
        "  plt.ylabel(\"Score\")\n",
        "  ax = plt.gca()\n",
        "  ax.set_xlim(0,0.03)\n",
        "  ax.set_ylim(0.5, 1)\n",
        "  \n",
        "  # Get the regular numpy array from the MaskedArray\n",
        "  X_axis = np.array(results[param].data, dtype=float)\n",
        "\n",
        "  for scorer, color in zip(sorted(scoring), ['g', 'k']):\n",
        "    for sample, style in (('train', '--'), ('test', '-')):\n",
        "        sample_score_mean = results['mean_%s_%s' % (sample, scorer)]\n",
        "        sample_score_std = results['std_%s_%s' % (sample, scorer)]\n",
        "        ax.fill_between(X_axis, sample_score_mean - sample_score_std,\n",
        "                        sample_score_mean + sample_score_std,\n",
        "                        alpha=0.1 if sample == 'test' else 0, color=color)\n",
        "        ax.plot(X_axis, sample_score_mean, style, color=color,\n",
        "                alpha=1 if sample == 'test' else 0.7,\n",
        "                label=\"%s (%s)\" % (scorer, sample))\n",
        "\n",
        "    #best_index = np.nonzero(results['rank_test_%s' % scorer] == 1)[0][0]\n",
        "    #best_score = results['mean_test_%s' % scorer][best_index]\n",
        "\n",
        "    # Plot a dotted vertical line at the best score for that scorer marked by x\n",
        "    #ax.plot([X_axis[best_index], ] * 2, [0, best_score],\n",
        "     #       linestyle='-.', color=color, marker='x', markeredgewidth=3, ms=8)\n",
        "\n",
        "    # Annotate the best score for that scorer\n",
        "    #ax.annotate(\"%0.2f\" % best_score,\n",
        "     #           (X_axis[best_index], best_score + 0.005))\n",
        "    \n",
        "  plt.legend(loc=\"best\")\n",
        "  plt.grid(False)\n",
        "  plt.show()"
      ],
      "execution_count": null,
      "outputs": []
    },
    {
      "cell_type": "code",
      "metadata": {
        "id": "SOUjhB838b43"
      },
      "source": [
        "base_logistic = LogisticRegression(random_state=666,n_jobs=-1)\n",
        "svm = SVC()\n",
        "dtree = tree.DecisionTreeClassifier()\n",
        "nb = MultinomialNB()\n",
        "sgd = SGDClassifier(alpha=0.000001,max_iter=3000)"
      ],
      "execution_count": null,
      "outputs": []
    },
    {
      "cell_type": "code",
      "metadata": {
        "id": "ZZgVrpCT8uGp",
        "colab": {
          "base_uri": "https://localhost:8080/",
          "height": 252
        },
        "outputId": "274204df-0040-423f-dee8-318952d0d6f4"
      },
      "source": [
        "logit_results = grid__search(make_pipeline(base_logistic),base_logistic,vect_parameters)"
      ],
      "execution_count": null,
      "outputs": [
        {
          "output_type": "stream",
          "text": [
            "Performing grid search...\n",
            "pipeline: ['vect', 'tfidf', 'clf']\n",
            "parameters:\n",
            "{'vect__ngram_range': ((1, 1), (1, 2), (1, 3))}\n",
            "Fitting 5 folds for each of 3 candidates, totalling 15 fits\n"
          ],
          "name": "stdout"
        },
        {
          "output_type": "stream",
          "text": [
            "[Parallel(n_jobs=-1)]: Using backend LokyBackend with 2 concurrent workers.\n",
            "[Parallel(n_jobs=-1)]: Done  15 out of  15 | elapsed:   12.3s finished\n"
          ],
          "name": "stderr"
        },
        {
          "output_type": "stream",
          "text": [
            "done in 12.594s\n",
            "\n",
            "Best train accuracy: 0.886\n",
            "Best test accuracy: 0.804\n",
            "Best f1 score: 0.746\n",
            "Best parameters set:\n",
            "\tvect__ngram_range: (1, 1)\n"
          ],
          "name": "stdout"
        }
      ]
    },
    {
      "cell_type": "code",
      "metadata": {
        "id": "XRcU0V4FgQpk",
        "colab": {
          "base_uri": "https://localhost:8080/",
          "height": 34
        },
        "outputId": "d95d0d2e-d323-4500-ab45-9466aabb8edf"
      },
      "source": [
        "logit_results['mean_test_f1_score']"
      ],
      "execution_count": null,
      "outputs": [
        {
          "output_type": "execute_result",
          "data": {
            "text/plain": [
              "array([0.74574051, 0.73302605, 0.72428645])"
            ]
          },
          "metadata": {
            "tags": []
          },
          "execution_count": 111
        }
      ]
    },
    {
      "cell_type": "code",
      "metadata": {
        "id": "K0yIs4ppQG1w",
        "colab": {
          "base_uri": "https://localhost:8080/",
          "height": 252
        },
        "outputId": "137c3486-fd5e-4491-a9bd-943855fc42b9"
      },
      "source": [
        "sgd_results = grid__search(make_pipeline(sgd),sgd,vect_parameters)"
      ],
      "execution_count": null,
      "outputs": [
        {
          "output_type": "stream",
          "text": [
            "Performing grid search...\n",
            "pipeline: ['vect', 'tfidf', 'clf']\n",
            "parameters:\n",
            "{'vect__ngram_range': ((1, 1), (1, 2), (1, 3))}\n",
            "Fitting 5 folds for each of 3 candidates, totalling 15 fits\n"
          ],
          "name": "stdout"
        },
        {
          "output_type": "stream",
          "text": [
            "[Parallel(n_jobs=-1)]: Using backend LokyBackend with 2 concurrent workers.\n",
            "[Parallel(n_jobs=-1)]: Done  15 out of  15 | elapsed:    7.1s finished\n"
          ],
          "name": "stderr"
        },
        {
          "output_type": "stream",
          "text": [
            "done in 7.797s\n",
            "\n",
            "Best train accuracy: 0.987\n",
            "Best test accuracy: 0.786\n",
            "Best f1 score: 0.743\n",
            "Best parameters set:\n",
            "\tvect__ngram_range: (1, 3)\n"
          ],
          "name": "stdout"
        }
      ]
    },
    {
      "cell_type": "code",
      "metadata": {
        "id": "1nJF5ObRY7in",
        "colab": {
          "base_uri": "https://localhost:8080/",
          "height": 252
        },
        "outputId": "3a07acd6-0f4d-45c7-a545-dfc28acb5cb3"
      },
      "source": [
        "nb_results = grid__search(make_pipeline(nb),nb,vect_parameters)"
      ],
      "execution_count": null,
      "outputs": [
        {
          "output_type": "stream",
          "text": [
            "Performing grid search...\n",
            "pipeline: ['vect', 'tfidf', 'clf']\n",
            "parameters:\n",
            "{'vect__ngram_range': ((1, 1), (1, 2), (1, 3))}\n",
            "Fitting 5 folds for each of 3 candidates, totalling 15 fits\n"
          ],
          "name": "stdout"
        },
        {
          "output_type": "stream",
          "text": [
            "[Parallel(n_jobs=-1)]: Using backend LokyBackend with 2 concurrent workers.\n"
          ],
          "name": "stderr"
        },
        {
          "output_type": "stream",
          "text": [
            "done in 8.152s\n",
            "\n",
            "Best train accuracy: 0.884\n",
            "Best test accuracy: 0.794\n",
            "Best f1 score: 0.720\n",
            "Best parameters set:\n",
            "\tvect__ngram_range: (1, 1)\n"
          ],
          "name": "stdout"
        },
        {
          "output_type": "stream",
          "text": [
            "[Parallel(n_jobs=-1)]: Done  15 out of  15 | elapsed:    8.0s finished\n"
          ],
          "name": "stderr"
        }
      ]
    },
    {
      "cell_type": "code",
      "metadata": {
        "id": "NXsO6U5WXy0m",
        "colab": {
          "base_uri": "https://localhost:8080/",
          "height": 306
        },
        "outputId": "c5394f5f-a14b-4ebc-c822-a51bfdbef69d"
      },
      "source": [
        "svm_results = grid__search(make_pipeline(svm),svm,vect_parameters)"
      ],
      "execution_count": null,
      "outputs": [
        {
          "output_type": "stream",
          "text": [
            "Performing grid search...\n",
            "pipeline: ['vect', 'tfidf', 'clf']\n",
            "parameters:\n",
            "{'vect__ngram_range': ((1, 1), (1, 2), (1, 3))}\n",
            "Fitting 5 folds for each of 3 candidates, totalling 15 fits\n"
          ],
          "name": "stdout"
        },
        {
          "output_type": "stream",
          "text": [
            "[Parallel(n_jobs=-1)]: Using backend LokyBackend with 2 concurrent workers.\n",
            "/usr/local/lib/python3.6/dist-packages/joblib/externals/loky/process_executor.py:706: UserWarning: A worker stopped while some jobs were given to the executor. This can be caused by a too short worker timeout or by a memory leak.\n",
            "  \"timeout or by a memory leak.\", UserWarning\n",
            "[Parallel(n_jobs=-1)]: Done  15 out of  15 | elapsed:  3.2min finished\n"
          ],
          "name": "stderr"
        },
        {
          "output_type": "stream",
          "text": [
            "done in 201.453s\n",
            "\n",
            "Best train accuracy: 0.966\n",
            "Best test accuracy: 0.802\n",
            "Best f1 score: 0.738\n",
            "Best parameters set:\n",
            "\tvect__ngram_range: (1, 1)\n"
          ],
          "name": "stdout"
        }
      ]
    },
    {
      "cell_type": "markdown",
      "metadata": {
        "id": "dpfbqWasHaKW"
      },
      "source": [
        "dtree_results = grid__search(make_pipeline(dtree),dtree,vect_parameters)\n",
        "\n",
        "```\n",
        "# This is formatted as code\n",
        "```\n",
        "\n"
      ]
    },
    {
      "cell_type": "code",
      "metadata": {
        "id": "DNP96qQ6iNAs",
        "colab": {
          "base_uri": "https://localhost:8080/",
          "height": 252
        },
        "outputId": "ad3d4565-25a4-44d0-ae49-4622e74a177a"
      },
      "source": [
        "dtree_results = grid__search(make_pipeline(dtree),dtree,vect_parameters)"
      ],
      "execution_count": null,
      "outputs": [
        {
          "output_type": "stream",
          "text": [
            "Performing grid search...\n",
            "pipeline: ['vect', 'tfidf', 'clf']\n",
            "parameters:\n",
            "{'vect__ngram_range': ((1, 1), (1, 2), (1, 3))}\n",
            "Fitting 5 folds for each of 3 candidates, totalling 15 fits\n"
          ],
          "name": "stdout"
        },
        {
          "output_type": "stream",
          "text": [
            "[Parallel(n_jobs=-1)]: Using backend LokyBackend with 2 concurrent workers.\n",
            "[Parallel(n_jobs=-1)]: Done  15 out of  15 | elapsed:   54.9s finished\n"
          ],
          "name": "stderr"
        },
        {
          "output_type": "stream",
          "text": [
            "done in 57.294s\n",
            "\n",
            "Best train accuracy: 0.989\n",
            "Best test accuracy: 0.719\n",
            "Best f1 score: 0.668\n",
            "Best parameters set:\n",
            "\tvect__ngram_range: (1, 1)\n"
          ],
          "name": "stdout"
        }
      ]
    },
    {
      "cell_type": "code",
      "metadata": {
        "id": "p-v7u0p3iWhc"
      },
      "source": [
        "comp = pd.DataFrame({'N-gram':['Unigram','Bigram','Trigram'],'Logistic_regression(base)': logit_results['mean_test_f1_score'],\n",
        "    'SVM': svm_results['mean_test_f1_score'],\n",
        "    'Decision Tree': dtree_results['mean_test_f1_score'],\n",
        "    'Naive Bayes': nb_results['mean_test_f1_score']})"
      ],
      "execution_count": null,
      "outputs": []
    },
    {
      "cell_type": "code",
      "metadata": {
        "id": "DQQmMtJ6kJeU"
      },
      "source": [
        "df = pd.melt(comp,id_vars=\"N-gram\", var_name=\"Model\", value_name=\"F1_score\")"
      ],
      "execution_count": null,
      "outputs": []
    },
    {
      "cell_type": "code",
      "metadata": {
        "id": "Pe8iw0nIlG7t",
        "colab": {
          "base_uri": "https://localhost:8080/",
          "height": 402
        },
        "outputId": "f48dd751-dd96-4d10-ca11-3ddc5759f9d7"
      },
      "source": [
        "df"
      ],
      "execution_count": null,
      "outputs": [
        {
          "output_type": "execute_result",
          "data": {
            "text/html": [
              "<div>\n",
              "<style scoped>\n",
              "    .dataframe tbody tr th:only-of-type {\n",
              "        vertical-align: middle;\n",
              "    }\n",
              "\n",
              "    .dataframe tbody tr th {\n",
              "        vertical-align: top;\n",
              "    }\n",
              "\n",
              "    .dataframe thead th {\n",
              "        text-align: right;\n",
              "    }\n",
              "</style>\n",
              "<table border=\"1\" class=\"dataframe\">\n",
              "  <thead>\n",
              "    <tr style=\"text-align: right;\">\n",
              "      <th></th>\n",
              "      <th>N-gram</th>\n",
              "      <th>Model</th>\n",
              "      <th>F1_score</th>\n",
              "    </tr>\n",
              "  </thead>\n",
              "  <tbody>\n",
              "    <tr>\n",
              "      <th>0</th>\n",
              "      <td>Unigram</td>\n",
              "      <td>Logistic_regression(base)</td>\n",
              "      <td>0.745741</td>\n",
              "    </tr>\n",
              "    <tr>\n",
              "      <th>1</th>\n",
              "      <td>Bigram</td>\n",
              "      <td>Logistic_regression(base)</td>\n",
              "      <td>0.733026</td>\n",
              "    </tr>\n",
              "    <tr>\n",
              "      <th>2</th>\n",
              "      <td>Trigram</td>\n",
              "      <td>Logistic_regression(base)</td>\n",
              "      <td>0.724286</td>\n",
              "    </tr>\n",
              "    <tr>\n",
              "      <th>3</th>\n",
              "      <td>Unigram</td>\n",
              "      <td>SVM</td>\n",
              "      <td>0.737567</td>\n",
              "    </tr>\n",
              "    <tr>\n",
              "      <th>4</th>\n",
              "      <td>Bigram</td>\n",
              "      <td>SVM</td>\n",
              "      <td>0.725085</td>\n",
              "    </tr>\n",
              "    <tr>\n",
              "      <th>5</th>\n",
              "      <td>Trigram</td>\n",
              "      <td>SVM</td>\n",
              "      <td>0.715509</td>\n",
              "    </tr>\n",
              "    <tr>\n",
              "      <th>6</th>\n",
              "      <td>Unigram</td>\n",
              "      <td>Decision Tree</td>\n",
              "      <td>0.668034</td>\n",
              "    </tr>\n",
              "    <tr>\n",
              "      <th>7</th>\n",
              "      <td>Bigram</td>\n",
              "      <td>Decision Tree</td>\n",
              "      <td>0.649403</td>\n",
              "    </tr>\n",
              "    <tr>\n",
              "      <th>8</th>\n",
              "      <td>Trigram</td>\n",
              "      <td>Decision Tree</td>\n",
              "      <td>0.638640</td>\n",
              "    </tr>\n",
              "    <tr>\n",
              "      <th>9</th>\n",
              "      <td>Unigram</td>\n",
              "      <td>Naive Bayes</td>\n",
              "      <td>0.719981</td>\n",
              "    </tr>\n",
              "    <tr>\n",
              "      <th>10</th>\n",
              "      <td>Bigram</td>\n",
              "      <td>Naive Bayes</td>\n",
              "      <td>0.711594</td>\n",
              "    </tr>\n",
              "    <tr>\n",
              "      <th>11</th>\n",
              "      <td>Trigram</td>\n",
              "      <td>Naive Bayes</td>\n",
              "      <td>0.703344</td>\n",
              "    </tr>\n",
              "  </tbody>\n",
              "</table>\n",
              "</div>"
            ],
            "text/plain": [
              "     N-gram                      Model  F1_score\n",
              "0   Unigram  Logistic_regression(base)  0.745741\n",
              "1   Bigram   Logistic_regression(base)  0.733026\n",
              "2   Trigram  Logistic_regression(base)  0.724286\n",
              "3   Unigram  SVM                        0.737567\n",
              "4   Bigram   SVM                        0.725085\n",
              "5   Trigram  SVM                        0.715509\n",
              "6   Unigram  Decision Tree              0.668034\n",
              "7   Bigram   Decision Tree              0.649403\n",
              "8   Trigram  Decision Tree              0.638640\n",
              "9   Unigram  Naive Bayes                0.719981\n",
              "10  Bigram   Naive Bayes                0.711594\n",
              "11  Trigram  Naive Bayes                0.703344"
            ]
          },
          "metadata": {
            "tags": []
          },
          "execution_count": 132
        }
      ]
    },
    {
      "cell_type": "code",
      "metadata": {
        "id": "HUwnoRbilMxL",
        "colab": {
          "base_uri": "https://localhost:8080/",
          "height": 422
        },
        "outputId": "e23bc8bc-37fd-423f-fdc6-f73635727abe"
      },
      "source": [
        "sns.factorplot(x='N-gram', y='F1_score', hue='Model', data=df, kind='bar')"
      ],
      "execution_count": null,
      "outputs": [
        {
          "output_type": "stream",
          "text": [
            "/usr/local/lib/python3.6/dist-packages/seaborn/categorical.py:3669: UserWarning: The `factorplot` function has been renamed to `catplot`. The original name will be removed in a future release. Please update your code. Note that the default `kind` in `factorplot` (`'point'`) has changed `'strip'` in `catplot`.\n",
            "  warnings.warn(msg)\n"
          ],
          "name": "stderr"
        },
        {
          "output_type": "execute_result",
          "data": {
            "text/plain": [
              "<seaborn.axisgrid.FacetGrid at 0x7f953700fbe0>"
            ]
          },
          "metadata": {
            "tags": []
          },
          "execution_count": 134
        },
        {
          "output_type": "display_data",
          "data": {
            "image/png": "[encoded data removed]",
            "text/plain": [
              "<Figure size 653.675x360 with 1 Axes>"
            ]
          },
          "metadata": {
            "tags": [],
            "needs_background": "light"
          }
        }
      ]
    },
    {
      "cell_type": "code",
      "metadata": {
        "id": "IlAA2B2_XgAS"
      },
      "source": [
        "def new_pipeline(clf):\n",
        "  pipeline = Pipeline([\n",
        "    ('vect', CountVectorizer(max_df=0.03,binary=False,min_df=0,ngram_range=(1,2),stop_words='english')),\n",
        "    ('tfidf', TfidfTransformer(norm = 'l2',use_idf=True)),\n",
        "    #('pca', pca),\n",
        "    #('scl',StandardScaler(with_mean=False)),\n",
        "    ('clf', clf),\n",
        "  ])\n",
        "  return pipeline\n",
        "\n",
        "logit_para = {'clf__C':np.logspace(0,4,10)}\n",
        "    #'clf__max_iter': (20,),\n",
        "    #'clf__alpha': (0.00001, 0.000001),\n",
        "    #'clf__penalty': ('l2', 'elasticnet'),\n",
        "    # 'clf__max_iter': (10, 50, 80),\n",
        "    #'pca__n_components':(range(1,100,1))}\n",
        "    #'clf__C':C,}\n",
        "    #'clf__penalty':penalty}"
      ],
      "execution_count": null,
      "outputs": []
    },
    {
      "cell_type": "code",
      "metadata": {
        "id": "hWHcIpQVo449"
      },
      "source": [
        "new_logit = LogisticRegression(n_jobs=-1)"
      ],
      "execution_count": null,
      "outputs": []
    },
    {
      "cell_type": "code",
      "metadata": {
        "id": "5tz6lh0-XMvS",
        "colab": {
          "base_uri": "https://localhost:8080/",
          "height": 252
        },
        "outputId": "3d2c26be-3e55-4df3-bf15-2245249061bf"
      },
      "source": [
        "from sklearn.cluster import KMeans\n",
        "kmeans = KMeans(n_clusters=2,max_iter=300)\n",
        "kmean_results = grid__search(make_pipeline(kmeans),kmeans,vect_parameters)"
      ],
      "execution_count": null,
      "outputs": [
        {
          "output_type": "stream",
          "text": [
            "Performing grid search...\n",
            "pipeline: ['vect', 'tfidf', 'clf']\n",
            "parameters:\n",
            "{'vect__ngram_range': ((1, 1), (1, 2))}\n",
            "Fitting 5 folds for each of 2 candidates, totalling 10 fits\n"
          ],
          "name": "stdout"
        },
        {
          "output_type": "stream",
          "text": [
            "[Parallel(n_jobs=-1)]: Using backend LokyBackend with 2 concurrent workers.\n",
            "[Parallel(n_jobs=-1)]: Done  10 out of  10 | elapsed:  3.3min finished\n"
          ],
          "name": "stderr"
        },
        {
          "output_type": "stream",
          "text": [
            "done in 247.224s\n",
            "\n",
            "Best train accuracy: 0.497\n",
            "Best test accuracy: 0.476\n",
            "Best f1 score: 0.366\n",
            "Best parameters set:\n",
            "\tvect__ngram_range: (1, 2)\n"
          ],
          "name": "stdout"
        }
      ]
    },
    {
      "cell_type": "code",
      "metadata": {
        "id": "uVIm03MhZCTO"
      },
      "source": [
        "km = make_pipeline(kmeans).fit_transform(train.clean_text,ytrain)"
      ],
      "execution_count": null,
      "outputs": []
    },
    {
      "cell_type": "code",
      "metadata": {
        "id": "1ghut2t-ZeqE"
      },
      "source": [
        "km.score()"
      ],
      "execution_count": null,
      "outputs": []
    },
    {
      "cell_type": "code",
      "metadata": {
        "id": "axQiTIy0Gh7q",
        "colab": {
          "base_uri": "https://localhost:8080/",
          "height": 306
        },
        "outputId": "83c2c1b3-7996-435f-df59-6cbed6c35f80"
      },
      "source": [
        "new_logit_results = grid__search(new_pipeline(new_logit),new_logit,logit_para)"
      ],
      "execution_count": null,
      "outputs": [
        {
          "output_type": "stream",
          "text": [
            "Performing grid search...\n",
            "pipeline: ['vect', 'tfidf', 'clf']\n",
            "parameters:\n",
            "{'clf__C': array([1.00000000e+00, 2.78255940e+00, 7.74263683e+00, 2.15443469e+01,\n",
            "       5.99484250e+01, 1.66810054e+02, 4.64158883e+02, 1.29154967e+03,\n",
            "       3.59381366e+03, 1.00000000e+04])}\n",
            "Fitting 5 folds for each of 10 candidates, totalling 50 fits\n"
          ],
          "name": "stdout"
        },
        {
          "output_type": "stream",
          "text": [
            "[Parallel(n_jobs=-1)]: Using backend LokyBackend with 2 concurrent workers.\n",
            "[Parallel(n_jobs=-1)]: Done  46 tasks      | elapsed:   32.4s\n",
            "[Parallel(n_jobs=-1)]: Done  50 out of  50 | elapsed:   35.2s finished\n"
          ],
          "name": "stderr"
        },
        {
          "output_type": "stream",
          "text": [
            "done in 36.079s\n",
            "\n",
            "Best train accuracy: 0.985\n",
            "Best test accuracy: 0.798\n",
            "Best f1 score: 0.754\n",
            "Best parameters set:\n",
            "\tclf__C: 7.742636826811269\n"
          ],
          "name": "stdout"
        }
      ]
    },
    {
      "cell_type": "code",
      "metadata": {
        "id": "oufO-uLGqaul"
      },
      "source": [
        "tuned_logit = LogisticRegression(C = 7.742636826811269,n_jobs=-1)"
      ],
      "execution_count": null,
      "outputs": []
    },
    {
      "cell_type": "code",
      "metadata": {
        "id": "zvYyUICqqnSY"
      },
      "source": [
        "cv_logit = cross_validate(new_pipeline(tuned_logit),train.clean_text,ytrain,cv=10,scoring=scoring,n_jobs=-1,return_train_score=True)"
      ],
      "execution_count": null,
      "outputs": []
    },
    {
      "cell_type": "code",
      "metadata": {
        "id": "3NnwE-8TrGTg",
        "colab": {
          "base_uri": "https://localhost:8080/",
          "height": 51
        },
        "outputId": "dcc24216-121d-4081-bc31-b85c9360df79"
      },
      "source": [
        "print(\"Mean test accuracy across 10 folds: %0.3f\" %cv_logit['test_accuracy'].mean())\n",
        "print(\"Mean test f1 score across 10 folds: %0.3f\" %cv_logit['test_f1_score'].mean())"
      ],
      "execution_count": null,
      "outputs": [
        {
          "output_type": "stream",
          "text": [
            "Mean test accuracy across 10 folds: 0.804\n",
            "Mean test f1 score across 10 folds: 0.761\n"
          ],
          "name": "stdout"
        }
      ]
    },
    {
      "cell_type": "code",
      "metadata": {
        "id": "FFRbchfr5eDX"
      },
      "source": [
        "count = CountVectorizer(stop_words='english')\n",
        "count.fit_transform(train.clean_text)\n",
        "\n",
        "test_pipeline = Pipeline([('tfidif',TfidfVectorizer(binary=False,min_df=0,ngram_range=(1,2),stop_words='english',vocabulary=count.vocabulary_)),\n",
        "                               ('clf',tuned_logit)])\n",
        "full_data = test_pipeline.fit(train.clean_text,ytrain)"
      ],
      "execution_count": null,
      "outputs": []
    },
    {
      "cell_type": "code",
      "metadata": {
        "id": "9GBG3dUY6Tev"
      },
      "source": [
        "full_data = new_pipeline(tuned_logit).fit(train.clean_text,ytrain)"
      ],
      "execution_count": null,
      "outputs": []
    },
    {
      "cell_type": "code",
      "metadata": {
        "id": "7uQp22IA6f0x",
        "colab": {
          "base_uri": "https://localhost:8080/",
          "height": 34
        },
        "outputId": "c65ad0d0-6e7f-42ea-9966-acb6d62bdc07"
      },
      "source": [
        "full_data.score(test.clean_text,ytest)"
      ],
      "execution_count": null,
      "outputs": [
        {
          "output_type": "execute_result",
          "data": {
            "text/plain": [
              "0.7922157523751149"
            ]
          },
          "metadata": {
            "tags": []
          },
          "execution_count": 19
        }
      ]
    },
    {
      "cell_type": "code",
      "metadata": {
        "id": "a5IUBf-cOiK8"
      },
      "source": [
        "prediction = full_data.predict(test.clean_text)"
      ],
      "execution_count": null,
      "outputs": []
    },
    {
      "cell_type": "code",
      "metadata": {
        "id": "r6cgZH9YBNzb",
        "colab": {
          "base_uri": "https://localhost:8080/",
          "height": 34
        },
        "outputId": "ca0b26dd-3a59-4eda-9f15-2e4515f599cd"
      },
      "source": [
        "f1_score(prediction,ytest)"
      ],
      "execution_count": null,
      "outputs": [
        {
          "output_type": "execute_result",
          "data": {
            "text/plain": [
              "0.7498154981549816"
            ]
          },
          "metadata": {
            "tags": []
          },
          "execution_count": 23
        }
      ]
    },
    {
      "cell_type": "code",
      "metadata": {
        "id": "2U0pXMbkfPlX"
      },
      "source": [
        "def comp_plot(metric):\n",
        "  plot_table = pd.DataFrame({\n",
        "    'K-folds': list(range(1,11)), \n",
        "    'Logistic_regression(base)': logit_cv[metric],\n",
        "    'SVM': svm_cv[metric],\n",
        "    'Decision Tree': dtree_cv[metric],\n",
        "    'Naive Bayes': nb_cv[metric]})\n",
        "  plt.figure(figsize=(10,5))\n",
        "  sns.lineplot(x='K-folds', y='value', hue='variable', \n",
        "             data=pd.melt(plot_table, ['K-folds'])).set_ylabel(metric)\n",
        "  plt.legend(bbox_to_anchor=(1.05, 1),loc='upper left', borderaxespad=0.)"
      ],
      "execution_count": null,
      "outputs": []
    },
    {
      "cell_type": "code",
      "metadata": {
        "id": "C-KASb9qh9qf"
      },
      "source": [
        "comp_plot('test_accuracy')\n",
        "comp_plot('test_precision')\n",
        "comp_plot('test_recall')\n",
        "comp_plot('test_f1_score')"
      ],
      "execution_count": null,
      "outputs": []
    },
    {
      "cell_type": "code",
      "metadata": {
        "id": "Pl3F-kE1qL5q"
      },
      "source": [
        "def score_comp(metric):\n",
        "  score_table = pd.DataFrame({ \n",
        "    'Logistic_regression(base)': logit_cv[metric].mean(),\n",
        "    'SVM': svm_cv[metric].mean(),\n",
        "    'Decision Tree': dtree_cv[metric].mean(),\n",
        "    'Naive Bayes': nb_cv[metric].mean()},index=[\"mean_\"+metric])\n",
        "  return score_table"
      ],
      "execution_count": null,
      "outputs": []
    },
    {
      "cell_type": "code",
      "metadata": {
        "id": "jgM5uAj0q3gT"
      },
      "source": [
        "base_table = pd.concat([score_comp('fit_time'),\n",
        "                        score_comp('score_time'),\n",
        "                        score_comp('test_accuracy')*100,\n",
        "                        score_comp('test_precision'),\n",
        "                        score_comp('test_recall'),\n",
        "                        score_comp('test_f1_score')]).round(4)\n",
        "base_table.transpose()"
      ],
      "execution_count": null,
      "outputs": []
    },
    {
      "cell_type": "code",
      "metadata": {
        "id": "ojHTfgtZte_Q"
      },
      "source": [
        "import six\n",
        "def render_mpl_table(data, col_width=3.0, row_height=0.625, font_size=14,\n",
        "                     header_color='#40466e', row_colors=['#f1f1f2', 'w'], edge_color='w',\n",
        "                     bbox=[0, 0, 1, 1], header_columns=0,\n",
        "                     ax=None, **kwargs):\n",
        "    if ax is None:\n",
        "        size = (np.array(data.shape[::-1]) + np.array([0, 1])) * np.array([col_width, row_height])\n",
        "        fig, ax = plt.subplots(figsize=size)\n",
        "        ax.axis('off')\n",
        "\n",
        "    mpl_table = ax.table(cellText=data.values, bbox=bbox, colLabels=data.columns, **kwargs)\n",
        "\n",
        "    mpl_table.auto_set_font_size(False)\n",
        "    mpl_table.set_fontsize(font_size)\n",
        "\n",
        "    for k, cell in  six.iteritems(mpl_table._cells):\n",
        "        cell.set_edgecolor(edge_color)\n",
        "        if k[0] == 0 or k[1] < header_columns:\n",
        "            cell.set_text_props(weight='bold', color='w')\n",
        "            cell.set_facecolor(header_color)\n",
        "        else:\n",
        "            cell.set_facecolor(row_colors[k[0]%len(row_colors) ])\n",
        "    return ax\n",
        "#render_mpl_table(base, header_columns=0, col_width=2.0)"
      ],
      "execution_count": null,
      "outputs": []
    },
    {
      "cell_type": "code",
      "metadata": {
        "id": "qaRhfFxVxwHX"
      },
      "source": [
        "svm_parameteres = {'C':[0.001,0.1,10,100], 'gamma':[0.1,0.01],'kernel': ['rbf', 'poly', 'sigmoid']}\n",
        "svm_grid = GridSearchCV(SVC(), param_grid=svm_parameteres, cv=5)\n",
        "svm_grid.fit(cv_xtrain,ytrain)"
      ],
      "execution_count": null,
      "outputs": []
    },
    {
      "cell_type": "code",
      "metadata": {
        "id": "480BZFqb6_ro"
      },
      "source": [
        "tuned_svm = svm_grid.best_estimator_\n",
        "tuned_svm_cv = cross_validate(tuned_svm,tf_xtrain,ytrain,cv=10,scoring=scoring)"
      ],
      "execution_count": null,
      "outputs": []
    },
    {
      "cell_type": "code",
      "metadata": {
        "id": "6to0gJ9177QF"
      },
      "source": [
        "tuned_svm_cv"
      ],
      "execution_count": null,
      "outputs": []
    },
    {
      "cell_type": "code",
      "metadata": {
        "id": "W2nuAh8gyruM"
      },
      "source": [
        "logit_parameters = {'penalty':['l2'],'C':np.logspace(0,4,10)}\n",
        "logit_grid = GridSearchCV(base_logistic, param_grid=logit_parameters, cv=5)\n",
        "logit_grid.fit(cv_xtrain,ytrain)"
      ],
      "execution_count": null,
      "outputs": []
    },
    {
      "cell_type": "code",
      "metadata": {
        "id": "Vzh381qu7oo2"
      },
      "source": [
        "tuned_logit = logit_grid.best_estimator_\n",
        "tuned_logit_cv = cross_validate(tuned_logit,cv_xtrain,ytrain,cv=10,scoring=scoring)"
      ],
      "execution_count": null,
      "outputs": []
    },
    {
      "cell_type": "code",
      "metadata": {
        "id": "TqyqGnPA8AnP"
      },
      "source": [
        "tuned_logit_cv['test_accuracy'].mean()"
      ],
      "execution_count": null,
      "outputs": []
    }
  ]
}